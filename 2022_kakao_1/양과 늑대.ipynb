{
 "cells": [
  {
   "cell_type": "code",
   "execution_count": null,
   "id": "6fb7c589",
   "metadata": {},
   "outputs": [],
   "source": [
    "'''\n",
    "ANSWER\n",
    "\n",
    "알고리즘\n",
    "1. DFS\n",
    "\n",
    "고려해야할 점\n",
    "- 양의 수가 늑대의 수보다 많은가?\n",
    "- 부모 노드를 방문한 적이 있는가?\n",
    "- 자식 노드를 처음 방문하는가?\n",
    "\n",
    "STEP\n",
    "🐑 먼저 양이 늑대보다 많으면 양의 수를 결과 배열에 저장해둔다. \n",
    "(단, 양이 늑대보다 같거나 적으면 해당 과정을 끝낸다.)\n",
    "🐺 그리고 edge 배열을 돌면서 방문된 부모 노드와 방문되지 않은 자식 노드 정보가 있으면,\n",
    "1. 자식 노드에 방문 처리를 해주고 \n",
    "2. 양 또는 늑대 수를 업데이트 하여 같은 과정을 \n",
    "3. 계속 반복한다.\n",
    "\n",
    "위 과정이 끝나면, 양의 수를 저장한 배열에서의 최댓값이 모을 수 있는 양의 최대 수\n",
    "'''"
   ]
  },
  {
   "cell_type": "code",
   "execution_count": null,
   "id": "2294bdaf",
   "metadata": {},
   "outputs": [],
   "source": [
    "def solution(info, edges):\n",
    "    visited = [0] * len(info)\n",
    "    answer = []\n",
    "    \n",
    "    def dfs(sheep, wolf):\n",
    "        if sheep > wolf:\n",
    "            answer.append(sheep)\n",
    "        else:\n",
    "            return \n",
    "        \n",
    "        for p, c in edges:\n",
    "            if visited[p] and not visited[c]:\n",
    "                visited[c] = 1\n",
    "                if info[c] == 0:\n",
    "                    dfs(sheep+1, wolf)\n",
    "                else:\n",
    "                    dfs(sheep, wolf+1)\n",
    "                visited[c] = 0\n",
    "\n",
    "    # 루트 노드부터 시작\n",
    "    visited[0] = 1\n",
    "    dfs(1, 0)\n",
    "\n",
    "    return max(answer)\n"
   ]
  }
 ],
 "metadata": {
  "kernelspec": {
   "display_name": "Python 3 (ipykernel)",
   "language": "python",
   "name": "python3"
  },
  "language_info": {
   "codemirror_mode": {
    "name": "ipython",
    "version": 3
   },
   "file_extension": ".py",
   "mimetype": "text/x-python",
   "name": "python",
   "nbconvert_exporter": "python",
   "pygments_lexer": "ipython3",
   "version": "3.11.5"
  }
 },
 "nbformat": 4,
 "nbformat_minor": 5
}
