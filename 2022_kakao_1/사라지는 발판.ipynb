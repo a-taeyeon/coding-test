{
 "cells": [
  {
   "cell_type": "code",
   "execution_count": 1,
   "id": "71fdcd6c",
   "metadata": {},
   "outputs": [
    {
     "data": {
      "text/plain": [
       "'\\nANSWER\\n\\n알고리즘\\n1. dfs\\n'"
      ]
     },
     "execution_count": 1,
     "metadata": {},
     "output_type": "execute_result"
    }
   ],
   "source": [
    "'''\n",
    "ANSWER\n",
    "\n",
    "알고리즘\n",
    "1. dfs\n",
    "'''"
   ]
  },
  {
   "cell_type": "code",
   "execution_count": null,
   "id": "219f5475",
   "metadata": {},
   "outputs": [],
   "source": [
    "dy = [-1, 1, 0, 0]\n",
    "dx = [0, 0, -1, 1]\n",
    "INF = 987654321\n",
    "\n",
    "\n",
    "def solution(board, aloc, bloc):\n",
    "    return solve(board, aloc[0], aloc[1], bloc[0], bloc[1])[1]\n",
    "\n",
    "\n",
    "def in_range(board, y, x):\n",
    "    if y < 0 or y >= len(board) or x < 0 or x >= len(board[0]):\n",
    "        return False\n",
    "    return True\n",
    "\n",
    "\n",
    "def is_finished(board, y, x):\n",
    "    for i in range(4):\n",
    "        ny = y + dy[i]\n",
    "        nx = x + dx[i]\n",
    "        if in_range(board, ny, nx) and board[ny][nx]:\n",
    "            return False\n",
    "    return True\n",
    "\n",
    "\n",
    "def solve(board, y1, x1, y2, x2):\n",
    "    # can_win, turn\n",
    "    if is_finished(board, y1, x1):\n",
    "        return [False, 0]\n",
    "\n",
    "    # 서로 두 위치가 같을 때 이번 턴에 움직이면 무조건 이기므로\n",
    "    if y1 == y2 and x1 == x2:\n",
    "        return [True, 1]\n",
    "\n",
    "    min_turn = INF\n",
    "    max_turn = 0\n",
    "    can_win = False\n",
    "\n",
    "    # dfs\n",
    "    for i in range(4):\n",
    "        ny = y1 + dy[i]\n",
    "        nx = x1 + dx[i]\n",
    "        if not in_range(board, ny, nx) or not board[ny][nx]:\n",
    "            continue\n",
    "\n",
    "        board[y1][x1] = 0\n",
    "        result = solve(board, y2, x2, ny, nx)  # 차례가 바뀌기 때문에 위치를 바꿔준다.\n",
    "        board[y2][x2] = 1\n",
    "\n",
    "        # 이 시점에서는 result[0]이 False여야만 현재 턴에서 내가 이길 수 있다.\n",
    "        if not result[0]:\n",
    "            can_win = True\n",
    "            min_turn = min(min_turn, result[1])\n",
    "        elif not can_win:\n",
    "            max_turn = max(max_turn, result[1])\n",
    "\n",
    "    turn = min_turn if can_win else max_turn\n",
    "\n",
    "    return [can_win, turn + 1]"
   ]
  }
 ],
 "metadata": {
  "kernelspec": {
   "display_name": "Python 3 (ipykernel)",
   "language": "python",
   "name": "python3"
  },
  "language_info": {
   "codemirror_mode": {
    "name": "ipython",
    "version": 3
   },
   "file_extension": ".py",
   "mimetype": "text/x-python",
   "name": "python",
   "nbconvert_exporter": "python",
   "pygments_lexer": "ipython3",
   "version": "3.11.5"
  }
 },
 "nbformat": 4,
 "nbformat_minor": 5
}
