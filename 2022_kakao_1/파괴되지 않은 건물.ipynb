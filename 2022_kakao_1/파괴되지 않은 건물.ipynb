{
 "cells": [
  {
   "cell_type": "code",
   "execution_count": 1,
   "id": "097f0318",
   "metadata": {},
   "outputs": [
    {
     "data": {
      "text/plain": [
       "'\\nANSWER\\nhttps://kimjingo.tistory.com/155\\n\\n알고리즘\\n1. 누적합 (2차원 배열)\\n'"
      ]
     },
     "execution_count": 1,
     "metadata": {},
     "output_type": "execute_result"
    }
   ],
   "source": [
    "'''\n",
    "ANSWER\n",
    "https://kimjingo.tistory.com/155\n",
    "\n",
    "알고리즘\n",
    "1. 누적합 (2차원 배열)\n",
    "'''"
   ]
  },
  {
   "cell_type": "code",
   "execution_count": null,
   "id": "c62b1da4",
   "metadata": {},
   "outputs": [],
   "source": [
    "def solution(board, skill):\n",
    "    answer = 0\n",
    "    tmp = [[0] * (len(board[0]) + 1) for _ in range(len(board) + 1)] # 누적합 기록을 위한 배열\n",
    " \n",
    "    for type, r1, c1, r2, c2, degree in skill:\n",
    "        # 누적합 기록, 부호에 주의할 것\n",
    "        tmp[r1][c1] += degree if type == 2 else -degree\n",
    "        tmp[r1][c2 + 1] += -degree if type == 2 else degree\n",
    "        tmp[r2 + 1][c1] += -degree if type == 2 else degree\n",
    "        tmp[r2 + 1][c2 + 1] += degree if type == 2 else -degree\n",
    " \n",
    "    # 행 기준 누적합\n",
    "    for i in range(len(tmp) - 1):\n",
    "        for j in range(len(tmp[0]) - 1):\n",
    "            tmp[i][j + 1] += tmp[i][j]\n",
    " \n",
    "    # 열 기준 누적합\n",
    "    for j in range(len(tmp[0]) - 1):\n",
    "        for i in range(len(tmp) - 1):\n",
    "            tmp[i + 1][j] += tmp[i][j]\n",
    " \n",
    "    # 기존 배열과 합함\n",
    "    for i in range(len(board)):\n",
    "        for j in range(len(board[i])):\n",
    "            board[i][j] += tmp[i][j]\n",
    "            # board에 값이 1이상인 경우 answer++\n",
    "            if board[i][j] > 0: answer += 1\n",
    " \n",
    "    return answer"
   ]
  }
 ],
 "metadata": {
  "kernelspec": {
   "display_name": "Python 3 (ipykernel)",
   "language": "python",
   "name": "python3"
  },
  "language_info": {
   "codemirror_mode": {
    "name": "ipython",
    "version": 3
   },
   "file_extension": ".py",
   "mimetype": "text/x-python",
   "name": "python",
   "nbconvert_exporter": "python",
   "pygments_lexer": "ipython3",
   "version": "3.11.5"
  }
 },
 "nbformat": 4,
 "nbformat_minor": 5
}
