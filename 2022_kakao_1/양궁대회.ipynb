{
 "cells": [
  {
   "cell_type": "code",
   "execution_count": 1,
   "id": "0841c389",
   "metadata": {},
   "outputs": [
    {
     "data": {
      "text/plain": [
       "'\\nANSWER\\n\\n알고리즘: 1.BFS / 2.Combination\\n'"
      ]
     },
     "execution_count": 1,
     "metadata": {},
     "output_type": "execute_result"
    }
   ],
   "source": [
    "'''\n",
    "ANSWER\n",
    "https://choo.oopy.io/651eb670-9136-43e8-ad8d-7cdd65225cc1\n",
    "알고리즘 방법\n",
    "1.BFS\n",
    "2.DFS\n",
    "3.Combination - 중복조합 ()\n",
    "4. 비트 \n",
    "'''"
   ]
  },
  {
   "cell_type": "code",
   "execution_count": 2,
   "id": "2c0e02a8",
   "metadata": {},
   "outputs": [
    {
     "data": {
      "text/plain": [
       "'\\nBFS\\n'"
      ]
     },
     "execution_count": 2,
     "metadata": {},
     "output_type": "execute_result"
    }
   ],
   "source": [
    "'''\n",
    "BFS\n",
    "'''\n",
    "from collections import deque\n",
    "import copy\n",
    "\n",
    "def bfs(n, info):\n",
    "    answer = []\n",
    "    queue = deque([(0, [0, 0, 0, 0, 0, 0, 0, 0, 0, 0, 0])])  # count, arrow\n",
    "    max_gap = 0  # 라이언 - 어피치 점수 최대 차\n",
    "\n",
    "    while queue:\n",
    "        count, arrow = queue.popleft()\n",
    "        if sum(arrow) == n:  # while 문 종료\n",
    "            ryan = 0\n",
    "            apeach = 0 # 라이언 어피치 점수 계산\n",
    "            for i in range(11):\n",
    "                if not (arrow[i] == 0 and info[i] == 0):\n",
    "                    if arrow[i] > info[i]:  # 라이언이 이김\n",
    "                        ryan += 10 - i\n",
    "                    else:\n",
    "                        apeach += 10 - i\n",
    "            if ryan > apeach:\n",
    "                gap = ryan - apeach\n",
    "                if max_gap > gap:\n",
    "                    continue\n",
    "                if max_gap < gap:\n",
    "                    max_gap = gap\n",
    "                    answer.clear()\n",
    "                answer.append(arrow)  # 화살 기록 저장하기\n",
    "\n",
    "        elif sum(arrow) > n: # 화살 더 쏜 경우 -> 무조건적으로 info[count] + 1라고 더해주고 있어서 예외처리 필요\n",
    "            continue\n",
    "        elif count == 10:\n",
    "            temp = arrow.copy()\n",
    "            temp[count] = n - sum(temp)\n",
    "            queue.append((-1, temp)) # n = - 1 \n",
    "        else:\n",
    "            temp = arrow.copy()\n",
    "            temp[count] = info[count]+1 # 화살 쏘는 경우 무조건 어피치보다 +1 많이 쏴야 득점\n",
    "            queue.append((count+1, temp))\n",
    "            temp2 = arrow.copy()\n",
    "            temp2[count] = 0 # 안쏘는 경우\n",
    "            queue.append((count+1, temp2))\n",
    "    return answer\n",
    "\n",
    "\n",
    "def solution(n, info):\n",
    "    result = bfs(n, info)\n",
    "    if not result:\n",
    "        return [-1]\n",
    "    elif len(result) == 1: # case가 하나밖에 없을 때\n",
    "        return result[0]\n",
    "    else: # 과녘 점수 작은것들을 최대한 많이 포함하는 경우 (bfs에서 인덱스 오름차순으로 돌리기 때문에 뒤에 가있)\n",
    "        return result[-1]"
   ]
  },
  {
   "cell_type": "code",
   "execution_count": null,
   "id": "e4f8155a",
   "metadata": {},
   "outputs": [],
   "source": [
    "'''\n",
    "DFS\n",
    "'''\n",
    "def compare(arr1, arr2) :\n",
    "    idx = 10\n",
    "    while idx >= 0 :\n",
    "        if arr1[idx] > arr2[idx] :\n",
    "            return 1\n",
    "        elif arr1[idx] < arr2[idx] :\n",
    "            return 0\n",
    "        else :\n",
    "            idx -= 1\n",
    "    return -1\n",
    "\n",
    "def cal(arr1, arr2) :\n",
    "    res = 0\n",
    "    for i in range(len(arr2)) :\n",
    "        if arr1[i] > arr2[i] :\n",
    "            res += 10 - i\n",
    "        elif arr1[i] < arr2[i]:\n",
    "            res -= (10 - i)\n",
    "    return res\n",
    "\n",
    "def dfs(info, idx, cand, arr, n) :\n",
    "    if idx == 10 and n >= 0 :\n",
    "        cur = arr + [n]\n",
    "        total = cal(cur, info)\n",
    "        if total > cand[0] :\n",
    "            cand[0] = total\n",
    "            cand[1] = cur\n",
    "        elif total == cand[0] :\n",
    "            if compare(cur, cand[1]) :\n",
    "                cand[1] = cur\n",
    "    if n < 0 or idx == 11:\n",
    "        return\n",
    "    dfs(info, idx+1, cand, arr + [info[idx] +1], n - (info[idx] + 1))\n",
    "    dfs(info, idx+1, cand, arr + [0], n)\n",
    "\n",
    "def solution(n, info):\n",
    "    answer = []\n",
    "    cand = [0, [0]*11]\n",
    "    dfs(info, 0, cand, [], n)\n",
    "    if cand[0] == 0 :\n",
    "        return [-1]\n",
    "    else :\n",
    "        return cand[1]"
   ]
  },
  {
   "cell_type": "code",
   "execution_count": null,
   "id": "23893a93",
   "metadata": {},
   "outputs": [],
   "source": [
    "'''\n",
    "Combination\n",
    "'''\n",
    "from itertools import combinations_with_replacement as cwr\n",
    "from collections import Counter\n",
    "\n",
    "def solution(n, info) :\n",
    "    answer = []\n",
    "    info = info[::-1]\n",
    "    max_n = -1\n",
    "    k = len(info)\n",
    "    \n",
    "    for c in cwr(range(0, k), n) :\n",
    "        ryan = 0\n",
    "        apeach = 0\n",
    "        tmp_ans = [0 for _ in range(k)]\n",
    "        \n",
    "        c = Counter(c)\n",
    "        for i in range(0, k) :\n",
    "            if info[i] < c[i] : # 개수가 더 많으면 라이언이 승\n",
    "                ryan += i\n",
    "            elif info[i] != 0 : # 아니면 어피치가 승\n",
    "                apeach += i\n",
    "\n",
    "            tmp_ans[i] = c[i]\n",
    "        if ryan > apeach :\n",
    "            diff = ryan - apeach\n",
    "            if max_n < diff :\n",
    "                max_n = diff\n",
    "                answer = tmp_ans\n",
    "\n",
    "    if answer :\n",
    "        return answer[::-1]\n",
    "    else :\n",
    "        return [max_n]\n",
    "출처: https://think-tech.tistory.com/70 [자윰이의 성장일기:티스토리]"
   ]
  }
 ],
 "metadata": {
  "kernelspec": {
   "display_name": "Python 3 (ipykernel)",
   "language": "python",
   "name": "python3"
  },
  "language_info": {
   "codemirror_mode": {
    "name": "ipython",
    "version": 3
   },
   "file_extension": ".py",
   "mimetype": "text/x-python",
   "name": "python",
   "nbconvert_exporter": "python",
   "pygments_lexer": "ipython3",
   "version": "3.11.5"
  }
 },
 "nbformat": 4,
 "nbformat_minor": 5
}
