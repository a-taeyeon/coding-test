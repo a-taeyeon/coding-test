{
 "cells": [
  {
   "cell_type": "code",
   "execution_count": 2,
   "id": "7c27ca2a",
   "metadata": {},
   "outputs": [],
   "source": [
    "'''\n",
    "ANSWER\n",
    "\n",
    "차량번호를 key값으로 하는 dictionary\n",
    "시간 차이를 계산하기 편리하게 하기위해 datetime 라이브러리\n",
    "'''\n",
    "from collections import defaultdict\n",
    "from datetime import datetime\n",
    "from math import ceil\n",
    "\n",
    "\n",
    "def solution(fees, records):\n",
    "    answer = []\n",
    "    cars = defaultdict(list)\n",
    "    \n",
    "    for record in records:  # {차량번호 : 입출차 시간} 형태로 딕셔너리를 만듬\n",
    "        data = record.split()\n",
    "        cars[data[1]].append(datetime.strptime(data[0], \"%H:%M\"))\n",
    "    \n",
    "    for key in cars.keys():  # 입차 출차 쌍이 안맞으면 \"23:59 출차\" 추가\n",
    "        if len(cars[key]) % 2 != 0:\n",
    "            cars[key].append(datetime.strptime(\"23:59\", \"%H:%M\"))\n",
    "            \n",
    "    for key in sorted(cars.keys()):\n",
    "        total_time = 0\n",
    "        \n",
    "        for i in range(0, len(cars[key]) - 1, 2):  # 총 시간 계산\n",
    "            delta = cars[key][i+1] - cars[key][i]\n",
    "            total_time += delta.seconds // 60\n",
    "        \n",
    "        if total_time <= fees[0]:  # 기본요금만 내는 경우\n",
    "            answer.append(fees[1])\n",
    "            continue\n",
    "        \n",
    "        answer.append(\n",
    "            fees[1] + ceil((total_time - fees[0]) / fees[2]) * fees[3]\n",
    "        )  # 요금계산\n",
    "    return answer"
   ]
  },
  {
   "cell_type": "code",
   "execution_count": null,
   "id": "9f2e6d83",
   "metadata": {},
   "outputs": [],
   "source": []
  }
 ],
 "metadata": {
  "kernelspec": {
   "display_name": "Python 3 (ipykernel)",
   "language": "python",
   "name": "python3"
  },
  "language_info": {
   "codemirror_mode": {
    "name": "ipython",
    "version": 3
   },
   "file_extension": ".py",
   "mimetype": "text/x-python",
   "name": "python",
   "nbconvert_exporter": "python",
   "pygments_lexer": "ipython3",
   "version": "3.11.5"
  }
 },
 "nbformat": 4,
 "nbformat_minor": 5
}
