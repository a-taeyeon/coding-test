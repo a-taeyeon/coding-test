{
 "cells": [
  {
   "cell_type": "code",
   "execution_count": 60,
   "id": "c5540cd7",
   "metadata": {},
   "outputs": [
    {
     "ename": "SyntaxError",
     "evalue": "invalid non-printable character U+00A0 (2744059843.py, line 16)",
     "output_type": "error",
     "traceback": [
      "\u001b[0;36m  Cell \u001b[0;32mIn[60], line 16\u001b[0;36m\u001b[0m\n\u001b[0;31m    ret = \"\"\u001b[0m\n\u001b[0m    ^\u001b[0m\n\u001b[0;31mSyntaxError\u001b[0m\u001b[0;31m:\u001b[0m invalid non-printable character U+00A0\n"
     ]
    }
   ],
   "source": [
    "'''\n",
    "소요시간: 35m\n",
    "테스트 결과: case1 시간초과\n",
    "\n",
    "풀이방법\n",
    "step1. k진수로 변환 (convert 함수)\n",
    "step2. 0으로 split 한 후 list 생성 (p_list)\n",
    "step3. 소수 판별 후 \n",
    "'''\n",
    "\n",
    "import string\n",
    "import math\n",
    "\n",
    "tmp = string.digits+string.ascii_lowercase\n",
    "def convert(num, base) :\n",
    "    q, r = divmod(num, base)\n",
    "    if q == 0 :\n",
    "        return tmp[r] \n",
    "    else :\n",
    "        return convert(q, base) + tmp[r]\n",
    "\n",
    "# 소수 판별 함수(2이상의 자연수에 대하여) -> 에라토스토스테네체 사용해야함!!!!!!!!!!!!\n",
    "def is_prime_number(x):\n",
    "    # 2부터 (x - 1)까지의 모든 수를 확인하며\n",
    "    for i in range(2, x):\n",
    "        # x가 해당 수로 나누어떨어진다면\n",
    "        if x % i == 0:\n",
    "            return False # 소수가 아님\n",
    "    return True # 소수임\n",
    "    \n",
    "                    \n",
    "def solution(n, k):\n",
    "    p_str = str(convert(n, k))\n",
    "#     print(p_str)\n",
    "    \n",
    "    p_list = p_str.split(\"0\")\n",
    "#     print(p_list)\n",
    "    \n",
    "    \n",
    "    result = 0\n",
    "    for p in p_list:\n",
    "        if p == \"1\" or p == \"\":\n",
    "            pass\n",
    "        else:\n",
    "            if is_prime_number(int(p)):\n",
    "                result += 1       \n",
    "            \n",
    "#     print(result)\n",
    "    return result"
   ]
  },
  {
   "cell_type": "code",
   "execution_count": 55,
   "id": "a4b905b0",
   "metadata": {},
   "outputs": [
    {
     "name": "stdout",
     "output_type": "stream",
     "text": [
      "211020101011\n",
      "['211', '2', '1', '1', '11']\n",
      "3\n"
     ]
    }
   ],
   "source": [
    "solution(437674, 3)"
   ]
  },
  {
   "cell_type": "code",
   "execution_count": 56,
   "id": "28a43191",
   "metadata": {},
   "outputs": [
    {
     "name": "stdout",
     "output_type": "stream",
     "text": [
      "110011\n",
      "['11', '', '11']\n",
      "2\n"
     ]
    }
   ],
   "source": [
    "solution(110011, 10)"
   ]
  },
  {
   "cell_type": "code",
   "execution_count": 63,
   "id": "fb64f51d",
   "metadata": {},
   "outputs": [],
   "source": [
    "'''\n",
    "ANSWER\n",
    "'''\n",
    "def convert(n, k):\n",
    "    ans = \"\"\n",
    "    while n>0:\n",
    "        ans=str(n%k)+ans\n",
    "        n//=k\n",
    "    return ans\n",
    "\n",
    "def isprime(n):\n",
    "    if n==1: return False\n",
    "    for i in range(2, int(n**0.5)+1):\n",
    "        if n%i==0: return False\n",
    "    return True\n",
    "\n",
    "def solution(n, k):\n",
    "    stnum = convert(n, k)\n",
    "    listnum = stnum.split(\"0\")\n",
    "    ans = 0\n",
    "    for num in listnum:\n",
    "        if num == \"\": continue\n",
    "        if isprime(int(num)): ans+=1\n",
    "    return ans"
   ]
  },
  {
   "cell_type": "code",
   "execution_count": 64,
   "id": "fb3c890c",
   "metadata": {},
   "outputs": [
    {
     "data": {
      "text/plain": [
       "3"
      ]
     },
     "execution_count": 64,
     "metadata": {},
     "output_type": "execute_result"
    }
   ],
   "source": [
    "solution(437674, 3)"
   ]
  },
  {
   "cell_type": "code",
   "execution_count": null,
   "id": "98c1f2f9",
   "metadata": {},
   "outputs": [],
   "source": [
    "# 소수판별 에라토스테네스의 체 사용하는 걸로 변경해보기!\n",
    "# 00인 경우 예외 처리 했는지"
   ]
  }
 ],
 "metadata": {
  "kernelspec": {
   "display_name": "Python 3 (ipykernel)",
   "language": "python",
   "name": "python3"
  },
  "language_info": {
   "codemirror_mode": {
    "name": "ipython",
    "version": 3
   },
   "file_extension": ".py",
   "mimetype": "text/x-python",
   "name": "python",
   "nbconvert_exporter": "python",
   "pygments_lexer": "ipython3",
   "version": "3.11.5"
  }
 },
 "nbformat": 4,
 "nbformat_minor": 5
}
