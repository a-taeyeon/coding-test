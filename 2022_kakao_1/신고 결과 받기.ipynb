{
 "cells": [
  {
   "cell_type": "code",
   "execution_count": 56,
   "id": "7b9389b6",
   "metadata": {},
   "outputs": [],
   "source": [
    "'''\n",
    "소요시간: 1h15m\n",
    "테스트 결과: case 3,9,11,14,15,20,21 시간초과\n",
    "\n",
    "풀이방법\n",
    "step1. 중복제거 -> 같은 유저 신고한 경우\n",
    "step2. 각 유저 신고당한 횟수 dict 만들기 (cnt_dict)\n",
    "step3. cnt_dit < k 삭제\n",
    "step4. for 유저인원수:\n",
    "            report에서 내가 신고한 사람\n",
    "            cnt_dict에 있으면\n",
    "            개수만큼 result++\n",
    "'''\n",
    "\n",
    "def solution(id_list, report, k):\n",
    "    report = set(report)\n",
    "#     print(report)\n",
    "    \n",
    "    cnt_dict = dict()\n",
    "    for i in report:\n",
    "        user_report_id = i.split(\" \")[1]\n",
    "        if user_report_id in cnt_dict:\n",
    "            cnt_dict[i.split(\" \")[1]] += 1\n",
    "        else:\n",
    "            cnt_dict[user_report_id] = 1\n",
    "#     print(cnt_dict)\n",
    "        \n",
    "    cnt_dict = {key:val for key, val in cnt_dict.items() if val >= k}\n",
    "\n",
    "#     print(cnt_dict)\n",
    "\n",
    "    result = [0 for i in range(len(id_list))]\n",
    "    for i in range(len(id_list)):\n",
    "        for j in report:\n",
    "            if id_list[i] == j.split(\" \")[0]:\n",
    "                if j.split(\" \")[1] in cnt_dict:\n",
    "                    result[i] += 1\n",
    "                    \n",
    "    print(result)\n",
    "#     return result"
   ]
  },
  {
   "cell_type": "code",
   "execution_count": 57,
   "id": "3aa93eeb",
   "metadata": {},
   "outputs": [
    {
     "name": "stdout",
     "output_type": "stream",
     "text": [
      "{'muzi neo', 'muzi frodo', 'apeach frodo', 'frodo neo', 'apeach muzi'}\n",
      "{'neo': 2, 'frodo': 2}\n",
      "[2, 1, 1, 0]\n"
     ]
    }
   ],
   "source": [
    "id_list = [\"muzi\", \"frodo\", \"apeach\", \"neo\"]\n",
    "report = [\"muzi frodo\", \"apeach frodo\", \"frodo neo\", \"muzi neo\", \"apeach muzi\"]\n",
    "k = 2\n",
    "\n",
    "# print(id_list)\n",
    "# print(report)\n",
    "# print(k)\n",
    "\n",
    "solution(id_list, report, k)"
   ]
  },
  {
   "cell_type": "code",
   "execution_count": null,
   "id": "d69cad8c",
   "metadata": {},
   "outputs": [],
   "source": [
    "id_list = [\"con\", \"ryan\"]\n",
    "report = [\"ryan con\", \"ryan con\", \"ryan con\", \"ryan con\"]\n",
    "k = 3\n",
    "\n",
    "solution(id_list, report, k)"
   ]
  },
  {
   "cell_type": "code",
   "execution_count": 66,
   "id": "a1d4ce39",
   "metadata": {},
   "outputs": [],
   "source": [
    "'''\n",
    "ANSWER\n",
    "\n",
    "step1. 인원수 만큼 결과 배열 만들기\n",
    "step2. dict으로 각 인원 0 초기화 (reports)\n",
    "step3. reports dict에 set배열로 신고 당한 수 저장\n",
    "step4. reports dict에서 k번 이상 신고당한 사람 바로 answer에 index로 횟수 저장 \n",
    "'''\n",
    "\n",
    "def solution(id_list, report, k):\n",
    "    answer = [0] * len(id_list)\n",
    "    reports = {x : 0 for x in id_list}\n",
    "    print(reports)\n",
    "    \n",
    "    for r in set(report):\n",
    "        reports[r.split()[1]] += 1\n",
    "    print(reports)\n",
    "    \n",
    "    for r in set(report):\n",
    "        if reports[r.split()[1]] >= k:\n",
    "            answer[id_list.index(r.split()[0])] += 1\n",
    "    print(answer)"
   ]
  },
  {
   "cell_type": "code",
   "execution_count": 67,
   "id": "b29735c7",
   "metadata": {},
   "outputs": [
    {
     "name": "stdout",
     "output_type": "stream",
     "text": [
      "{'muzi': 0, 'frodo': 0, 'apeach': 0, 'neo': 0}\n",
      "{'muzi': 1, 'frodo': 2, 'apeach': 0, 'neo': 2}\n",
      "[2, 1, 1, 0]\n"
     ]
    }
   ],
   "source": [
    "id_list = [\"muzi\", \"frodo\", \"apeach\", \"neo\"]\n",
    "report = [\"muzi frodo\", \"apeach frodo\", \"frodo neo\", \"muzi neo\", \"apeach muzi\"]\n",
    "k = 2\n",
    "\n",
    "# print(id_list)\n",
    "# print(report)\n",
    "# print(k)\n",
    "\n",
    "solution(id_list, report, k)"
   ]
  },
  {
   "cell_type": "code",
   "execution_count": null,
   "id": "9dac52f0",
   "metadata": {},
   "outputs": [],
   "source": []
  }
 ],
 "metadata": {
  "kernelspec": {
   "display_name": "Python 3 (ipykernel)",
   "language": "python",
   "name": "python3"
  },
  "language_info": {
   "codemirror_mode": {
    "name": "ipython",
    "version": 3
   },
   "file_extension": ".py",
   "mimetype": "text/x-python",
   "name": "python",
   "nbconvert_exporter": "python",
   "pygments_lexer": "ipython3",
   "version": "3.11.5"
  }
 },
 "nbformat": 4,
 "nbformat_minor": 5
}
