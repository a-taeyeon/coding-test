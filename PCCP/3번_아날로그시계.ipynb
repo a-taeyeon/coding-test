{
 "cells": [
  {
   "cell_type": "code",
   "execution_count": null,
   "id": "a0dc5abf",
   "metadata": {},
   "outputs": [],
   "source": [
    "# 특정 시간 동안 알람이 울린 횟수!\n",
    "# 시계문제 학교 다닐 때 진짜 많이 풀었던 방정식 문제 같은데..!\n",
    "# 근데 0.501초 6.102초 이건 뭐하는거지;\n",
    "# https://supersfel.tistory.com/629\n",
    "# 모르겠다!"
   ]
  },
  {
   "cell_type": "code",
   "execution_count": null,
   "id": "223d9f08",
   "metadata": {},
   "outputs": [],
   "source": [
    "# [0시0분0초 ~ h시m분s초) 에서 알람이 울린 횟수\n",
    "def calc2(h, m, s):\n",
    "    if h==m==s==0:\n",
    "        return 0\n",
    "    # 0~58분에는 분마다 분침에 초침이 한번씩 겹침 : h*59\n",
    "    # 매시간마다 시침에 초침이 60번씩 겹침. h*60 \n",
    "    # 매분마다 분침과 시침에 초침이 겹침. m*2\n",
    "    # 단, 0시0분0초 에는 시침,분침,초침이 동시에 한번만 겹쳤는데 따로 겹친거처럼 처리되므로 이를 보정하기위해 1을 뺌\n",
    "    ret = h*59 + h*60 + m*2 -1\n",
    "    # 초침이 시침을 넘어갔는가\n",
    "    if 5*(h+m/60+s/3600) < s:\n",
    "        ret += 1\n",
    "    # 초침이 분침을 넘어갔는가\n",
    "    if m + s/60 < s:\n",
    "        ret += 1\n",
    "    return ret\n",
    "\n",
    "def calc(h, m, s):\n",
    "    if h>=12:\n",
    "        # 12시에 대한 처리는 구현되지 않았는데 11시59분59초와 실제값이 같으므로 그것으로 대체\n",
    "        return calc2(11,59,59) + calc2(h-12,m,s)\n",
    "    else:\n",
    "        return calc2(h, m, s)\n",
    "\n",
    "def solution(h1, m1, s1, h2, m2, s2):\n",
    "    ret = calc(h2, m2, s2) - calc(h1, m1, s1)\n",
    "    # 마지막 시간에 알람이 울리는지 체크\n",
    "    if 5*(h2%12+m2/60+s2/3600) == s2 or m2+s2/60==s2:\n",
    "        ret += 1\n",
    "    return ret"
   ]
  },
  {
   "cell_type": "code",
   "execution_count": null,
   "id": "4978ef4a",
   "metadata": {},
   "outputs": [],
   "source": [
    "solution(0, 5, 30, 0, 7, 0)\n",
    "solution(0, 6, 1, 0, 6, 6)\n",
    "solution(11, 59, 30, 12, 0, 0)\n",
    "solution(11, 58, 59, 11, 59, 0)\n",
    "solution(1, 5, 5, 1, 5, 6)\n",
    "solution(0, 0, 0, 23, 59, 59)"
   ]
  }
 ],
 "metadata": {
  "kernelspec": {
   "display_name": "Python 3 (ipykernel)",
   "language": "python",
   "name": "python3"
  },
  "language_info": {
   "codemirror_mode": {
    "name": "ipython",
    "version": 3
   },
   "file_extension": ".py",
   "mimetype": "text/x-python",
   "name": "python",
   "nbconvert_exporter": "python",
   "pygments_lexer": "ipython3",
   "version": "3.11.5"
  }
 },
 "nbformat": 4,
 "nbformat_minor": 5
}
