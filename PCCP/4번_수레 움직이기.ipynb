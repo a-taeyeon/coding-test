{
 "cells": [
  {
   "cell_type": "code",
   "execution_count": null,
   "id": "5da71ff4",
   "metadata": {},
   "outputs": [],
   "source": [
    "# 상하좌우 -> DFS/BFS?\n",
    "# https://jaimemin.tistory.com/2336?category=1227366\n",
    "# https://velog.io/@nhs075241/PCCP-%EA%B8%B0%EC%B6%9C%EB%AC%B8%EC%A0%9C-%EB%AA%A8%EC%9D%8C\n",
    "# 문제 이해도 못함..;;"
   ]
  },
  {
   "cell_type": "code",
   "execution_count": null,
   "id": "a4d9a7f7",
   "metadata": {},
   "outputs": [],
   "source": [
    "from collections import deque\n",
    "def solution(maze):\n",
    "    n, m = len(maze), len(maze[0])\n",
    "    r_visit = 0\n",
    "    b_visit = 0\n",
    "    for i in range(n):\n",
    "        for j in range(m):\n",
    "            if maze[i][j]==1:\n",
    "                ri, rj = i, j\n",
    "            elif maze[i][j]==2:\n",
    "                bi, bj = i, j\n",
    "    delta = [(1,0),(-1,0),(0,1),(0,-1)]\n",
    "    q = deque([(ri,rj,bi,bj,1<<(ri*m+rj),1<<(bi*m+bj),0,False,False)])\n",
    "    ans = 10**6\n",
    "    while q:\n",
    "        ri, rj, bi, bj, r_visit, b_visit, cnt, r_flag, b_flag = q.popleft()\n",
    "        if maze[ri][rj] == 3:\n",
    "            r_flag = True\n",
    "        if maze[bi][bj] == 4:\n",
    "            b_flag = True\n",
    "        if r_flag and b_flag:\n",
    "            ans = min(ans,cnt)\n",
    "            continue\n",
    "        if r_flag:\n",
    "            for dbi, dbj in delta:\n",
    "                bI, bJ = bi+dbi, bj+dbj\n",
    "                if 0<=bI<n and 0<=bJ<m and maze[bI][bJ]<5 and (b_visit&(1<<(bI*m+bJ))==0) and (ri!=bI or rj!=bJ):\n",
    "                    q.append((ri,rj,bI,bJ,r_visit,b_visit|(1<<(bI*m+bJ)),cnt+1,r_flag,b_flag))\n",
    "            continue\n",
    "        if b_flag:\n",
    "            for dri, drj in delta:\n",
    "                rI, rJ = ri+dri, rj+drj\n",
    "                if 0<=rI<n and 0<=rJ<m and maze[rI][rJ]<5 and (r_visit&(1<<(rI*m+rJ))==0) and (rI!=bi or rJ!=bj):\n",
    "                    q.append((rI,rJ,bi,bj,r_visit|(1<<(rI*m+rJ)),b_visit,cnt+1,r_flag,b_flag))\n",
    "            continue\n",
    "        for dri, drj in delta:\n",
    "            rI, rJ = ri+dri, rj+drj\n",
    "            if 0<=rI<n and 0<=rJ<m and maze[rI][rJ]<5 and (r_visit&(1<<(rI*m+rJ))==0):\n",
    "                for dbi, dbj in delta:\n",
    "                    bI, bJ = bi+dbi, bj+dbj\n",
    "                    if 0<=bI<n and 0<=bJ<m and maze[bI][bJ]<5 and (b_visit&(1<<(bI*m+bJ))==0) and (rI!=bI or rJ!=bJ):\n",
    "                        if ri == bI and rj == bJ and bi == rI and bj == rJ:\n",
    "                            continue\n",
    "                        q.append((rI,rJ,bI,bJ,r_visit|(1<<(rI*m+rJ)),b_visit|(1<<(bI*m+bJ)),cnt+1,r_flag,b_flag))\n",
    "    return 0 if ans == 10**6 else ans"
   ]
  },
  {
   "cell_type": "code",
   "execution_count": null,
   "id": "4b3ac06b",
   "metadata": {},
   "outputs": [],
   "source": [
    "solution([[1, 4], [0, 0], [2, 3]])"
   ]
  },
  {
   "cell_type": "code",
   "execution_count": null,
   "id": "099d887e",
   "metadata": {},
   "outputs": [],
   "source": [
    "solution([[1, 0, 2], [0, 0, 0], [5, 0 ,5], [4, 0, 3]])"
   ]
  },
  {
   "cell_type": "code",
   "execution_count": null,
   "id": "04e6c305",
   "metadata": {},
   "outputs": [],
   "source": [
    "solution([[1, 5], [2, 5], [4, 5], [3, 5]])"
   ]
  },
  {
   "cell_type": "code",
   "execution_count": null,
   "id": "c501d98d",
   "metadata": {},
   "outputs": [],
   "source": [
    "solution([[4, 1, 2, 3]])"
   ]
  }
 ],
 "metadata": {
  "kernelspec": {
   "display_name": "Python 3 (ipykernel)",
   "language": "python",
   "name": "python3"
  },
  "language_info": {
   "codemirror_mode": {
    "name": "ipython",
    "version": 3
   },
   "file_extension": ".py",
   "mimetype": "text/x-python",
   "name": "python",
   "nbconvert_exporter": "python",
   "pygments_lexer": "ipython3",
   "version": "3.11.5"
  }
 },
 "nbformat": 4,
 "nbformat_minor": 5
}
