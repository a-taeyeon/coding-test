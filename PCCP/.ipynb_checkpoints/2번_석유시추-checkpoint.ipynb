{
 "cells": [
  {
   "cell_type": "code",
   "execution_count": null,
   "id": "54b587e3",
   "metadata": {},
   "outputs": [],
   "source": [
    "# 1. 석유 덩어리 수 구한뒤 -> 가장 문제인듯\n",
    "''' \n",
    "    연결된 덩어리가 몇인지 어떻게 알지?\n",
    "    상하좌우 확인 -> 탐색?\n",
    "    가로, 세로 반복문 -> 효율성 떨어질 것 같음\n",
    "    memoization문제일까? -> 이게 DP 문제임! -> 근데 점화식을.. 세울 수 없다\n",
    "    해당 덩어리가 나오면 더이상 해당 덩어리의 height로 들어가지 않아야 할 것 같은데\n",
    "'''\n",
    "'''\n",
    "    결국 BFS 문제였다...!\n",
    "'''\n",
    "# 2. 해당 덩어리 값으로 가장 상단 row에 있는 석유의 1 자리 채우기\n",
    "# 3. column 별로 합 구한 뒤 \n",
    "# 4. 합이 최대인 column이 answer"
   ]
  },
  {
   "cell_type": "code",
   "execution_count": 28,
   "id": "b194ad65",
   "metadata": {},
   "outputs": [],
   "source": [
    "# solution1\n",
    "from collections import deque\n",
    "\n",
    "def solution(land):\n",
    "    answer = 0\n",
    "    n = len(land)\n",
    "    m = len(land[0])\n",
    "    dx = [0,0,1,-1]\n",
    "    dy = [1,-1,0,0]\n",
    "    result = [0 for i in range(m+1)]\n",
    "    visited = [[0 for i in range(m)] for j in range(n)]\n",
    "    def bfs(a, b):\n",
    "        count = 0\n",
    "        visited[a][b] = 1\n",
    "        q = deque()\n",
    "        q.append((a,b))\n",
    "        min_y, max_y = b, b\n",
    "        while q:\n",
    "            x,y = q.popleft()\n",
    "            min_y = min(min_y, y)\n",
    "            max_y = max(max_y, y)\n",
    "            count += 1\n",
    "            for i in range(4):\n",
    "                nx = x + dx[i]\n",
    "                ny = y + dy[i]\n",
    "                if nx < 0 or ny < 0 or nx >= n or ny >= m:\n",
    "                    continue\n",
    "                if visited[nx][ny] == 0 and land[nx][ny] == 1:\n",
    "                    visited[nx][ny] = 1\n",
    "                    q.append((nx,ny))\n",
    "        \n",
    "        for i in range(min_y, max_y+1):\n",
    "            result[i] += count\n",
    "    \n",
    "    for i in range(n):\n",
    "        for j in range(m):\n",
    "            if visited[i][j] == 0 and land[i][j] == 1:\n",
    "                bfs(i,j)\n",
    "    answer = max(result)\n",
    "    return answer"
   ]
  },
  {
   "cell_type": "code",
   "execution_count": null,
   "id": "2d1979d9",
   "metadata": {},
   "outputs": [],
   "source": [
    "# solution 2\n",
    "from collections import deque\n",
    "\n",
    "dx = [0, 1, 0, -1]\n",
    "dy = [1, 0, -1, 0]\n",
    "\n",
    "def solution(land):\n",
    "    reclamed = [0] * len(land[0])\n",
    "    for x in range(len(land)):\n",
    "        for y in range(len(land[0])):\n",
    "            if land[x][y] == 1:\n",
    "                #bfs\n",
    "                ground = set([y])\n",
    "                oil = 1\n",
    "                land[x][y] = 0\n",
    "                q = deque([[x, y]])\n",
    "                while q:\n",
    "                    a, b = q.popleft()\n",
    "                    for i in range(4):\n",
    "                        xx = a + dx[i]\n",
    "                        yy = b + dy[i]\n",
    "                        if 0 <= xx < len(land) and 0 <= yy < len(land[0]) and land[xx][yy] == 1:\n",
    "                            ground.add(yy)\n",
    "                            oil += 1\n",
    "                            land[xx][yy] = 0\n",
    "                            q.append([xx, yy])\n",
    "\n",
    "                for i in ground:\n",
    "                    reclamed[i] += oil\n",
    "\n",
    "    return max(reclamed)"
   ]
  },
  {
   "cell_type": "code",
   "execution_count": 29,
   "id": "0ae0c240",
   "metadata": {},
   "outputs": [
    {
     "name": "stdout",
     "output_type": "stream",
     "text": [
      "1\n",
      "1\n",
      "2\n",
      "1\n",
      "2\n"
     ]
    },
    {
     "data": {
      "text/plain": [
       "0"
      ]
     },
     "execution_count": 29,
     "metadata": {},
     "output_type": "execute_result"
    }
   ],
   "source": [
    "solution([[0, 0, 0, 1, 1, 1, 0, 0],\n",
    "          [0, 0, 0, 0, 1, 1, 0, 0]])"
   ]
  },
  {
   "cell_type": "code",
   "execution_count": null,
   "id": "6a45e683",
   "metadata": {},
   "outputs": [],
   "source": [
    "solution([[0, 0, 0, 1, 1, 1, 0, 0],\n",
    "          [0, 0, 0, 0, 1, 1, 0, 0],\n",
    "          [1, 1, 0, 0, 0, 1, 1, 0],\n",
    "          [1, 1, 1, 0, 0, 0, 0, 0],\n",
    "          [1, 1, 1, 0, 0, 0, 1, 1]])"
   ]
  },
  {
   "cell_type": "code",
   "execution_count": null,
   "id": "a05a7ea6",
   "metadata": {},
   "outputs": [],
   "source": [
    "solution([[1, 0, 1, 0, 1, 1],\n",
    "          [1, 0, 1, 0, 0, 0],\n",
    "          [1, 0, 1, 0, 0, 1],\n",
    "          [1, 0, 0, 1, 0, 0],\n",
    "          [1, 0, 0, 1, 0, 1],\n",
    "          [1, 0, 0, 0, 0, 0],\n",
    "          [1, 1, 1, 1, 1, 1]])"
   ]
  }
 ],
 "metadata": {
  "kernelspec": {
   "display_name": "Python 3 (ipykernel)",
   "language": "python",
   "name": "python3"
  },
  "language_info": {
   "codemirror_mode": {
    "name": "ipython",
    "version": 3
   },
   "file_extension": ".py",
   "mimetype": "text/x-python",
   "name": "python",
   "nbconvert_exporter": "python",
   "pygments_lexer": "ipython3",
   "version": "3.11.5"
  }
 },
 "nbformat": 4,
 "nbformat_minor": 5
}
