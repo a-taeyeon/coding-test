{
 "cells": [
  {
   "cell_type": "code",
   "execution_count": null,
   "id": "6aa53e12",
   "metadata": {},
   "outputs": [],
   "source": [
    "# 점화식? DP? (X)"
   ]
  },
  {
   "cell_type": "code",
   "execution_count": 6,
   "id": "e56e0acd",
   "metadata": {},
   "outputs": [],
   "source": [
    "def solution(bandage, health, attacks):\n",
    "    currentHealth = health  # 현재 체력\n",
    "    success = 0             # 연속 성공\n",
    "    attack = False\n",
    "    bandageTime, recoveryBySecond, additionalRecovery = bandage\n",
    "\n",
    "    attacksSecond = [ attack[0] for attack in attacks ]     # 공격을 받은 시간\n",
    "    \n",
    "    print(f\"{0} {currentHealth} {success} {attack}\")\n",
    "    for second in range(1, attacksSecond[-1]+1):\n",
    "        if second in attacksSecond:     # 공격 받음\n",
    "            attack = True\n",
    "            success = 0     # 기술 취소\n",
    "            currentHealth -= attacks[attacksSecond.index(second)][1]    # 공격 피해\n",
    "        else:\n",
    "            attack = False\n",
    "            currentHealth += recoveryBySecond   # 초당 회복\n",
    "            success += 1\n",
    "            if success >= bandageTime:          # 연속 성공이면 추가 회복\n",
    "                currentHealth += additionalRecovery\n",
    "                success = 0\n",
    "            if currentHealth > health:          # 최대 체력 보정\n",
    "                currentHealth = health\n",
    "        print(f\"{second} {currentHealth} {success} {attack}\")\n",
    "        if currentHealth <= 0:\n",
    "            return -1\n",
    "    return currentHealth    "
   ]
  },
  {
   "cell_type": "code",
   "execution_count": null,
   "id": "6111cd4b",
   "metadata": {},
   "outputs": [],
   "source": []
  },
  {
   "cell_type": "code",
   "execution_count": 7,
   "id": "b7429891",
   "metadata": {},
   "outputs": [
    {
     "name": "stdout",
     "output_type": "stream",
     "text": [
      "0 30 0 False\n",
      "1 30 1 False\n",
      "2 20 0 True\n",
      "3 21 1 False\n",
      "4 22 2 False\n",
      "5 23 3 False\n",
      "6 24 4 False\n",
      "7 30 0 False\n",
      "8 30 1 False\n",
      "9 15 0 True\n",
      "10 10 0 True\n",
      "11 5 0 True\n"
     ]
    },
    {
     "data": {
      "text/plain": [
       "5"
      ]
     },
     "execution_count": 7,
     "metadata": {},
     "output_type": "execute_result"
    }
   ],
   "source": [
    "solution([5, 1, 5], 30, [[2, 10], [9, 15], [10, 5], [11, 5]])"
   ]
  },
  {
   "cell_type": "code",
   "execution_count": 8,
   "id": "d93b2a85",
   "metadata": {},
   "outputs": [
    {
     "name": "stdout",
     "output_type": "stream",
     "text": [
      "0 20 0 False\n",
      "1 5 0 True\n",
      "2 7 1 False\n",
      "3 9 2 False\n",
      "4 18 0 False\n",
      "5 2 0 True\n",
      "6 4 1 False\n",
      "7 6 2 False\n",
      "8 0 0 True\n"
     ]
    },
    {
     "data": {
      "text/plain": [
       "-1"
      ]
     },
     "execution_count": 8,
     "metadata": {},
     "output_type": "execute_result"
    }
   ],
   "source": [
    "solution([3, 2, 7], 20, [[1, 15], [5, 16], [8, 6]])"
   ]
  },
  {
   "cell_type": "code",
   "execution_count": 9,
   "id": "31b11aa5",
   "metadata": {},
   "outputs": [
    {
     "name": "stdout",
     "output_type": "stream",
     "text": [
      "0 20 0 False\n",
      "1 5 0 True\n",
      "2 7 1 False\n",
      "3 9 2 False\n",
      "4 11 3 False\n",
      "5 -5 0 True\n"
     ]
    },
    {
     "data": {
      "text/plain": [
       "-1"
      ]
     },
     "execution_count": 9,
     "metadata": {},
     "output_type": "execute_result"
    }
   ],
   "source": [
    "solution([4, 2, 7], 20, [[1, 15], [5, 16], [8, 6]])"
   ]
  },
  {
   "cell_type": "code",
   "execution_count": 10,
   "id": "ac521f3f",
   "metadata": {},
   "outputs": [
    {
     "name": "stdout",
     "output_type": "stream",
     "text": [
      "0 5 0 False\n",
      "1 3 0 True\n",
      "2 5 0 False\n",
      "3 3 0 True\n"
     ]
    },
    {
     "data": {
      "text/plain": [
       "3"
      ]
     },
     "execution_count": 10,
     "metadata": {},
     "output_type": "execute_result"
    }
   ],
   "source": [
    "solution([1, 1, 1], 5, \t[[1, 2], [3, 2]])"
   ]
  },
  {
   "cell_type": "code",
   "execution_count": null,
   "id": "edbdb179",
   "metadata": {},
   "outputs": [],
   "source": []
  },
  {
   "cell_type": "code",
   "execution_count": null,
   "id": "177bb9d6",
   "metadata": {},
   "outputs": [],
   "source": []
  }
 ],
 "metadata": {
  "kernelspec": {
   "display_name": "Python 3 (ipykernel)",
   "language": "python",
   "name": "python3"
  },
  "language_info": {
   "codemirror_mode": {
    "name": "ipython",
    "version": 3
   },
   "file_extension": ".py",
   "mimetype": "text/x-python",
   "name": "python",
   "nbconvert_exporter": "python",
   "pygments_lexer": "ipython3",
   "version": "3.11.5"
  }
 },
 "nbformat": 4,
 "nbformat_minor": 5
}
