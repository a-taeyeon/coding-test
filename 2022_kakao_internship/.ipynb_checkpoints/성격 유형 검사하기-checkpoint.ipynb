{
 "cells": [
  {
   "cell_type": "code",
   "execution_count": null,
   "id": "24943f1b",
   "metadata": {},
   "outputs": [],
   "source": [
    "from collections import defaultdict\n",
    "\n",
    "def solution(survey, choices):\n",
    "    answer = ''\n",
    "\n",
    "    indicator = [('R', 'T'), ('C', 'F'), ('J', 'M'), ('A', 'N')]\n",
    "    mbti = defaultdict(int)\n",
    "    \n",
    "    for s, c in zip(survey, choices):\n",
    "        if c < 4: # 앞의 유형+\n",
    "            mbti[s[0]] += (4-c)\n",
    "        elif c > 4: #뒤의 유형+\n",
    "            mbti[s[1]] += (c-4)\n",
    "            \n",
    "    for i in indicator:\n",
    "        if mbti[i[0]] >= mbti[i[1]]:\n",
    "            answer += i[0]\n",
    "        else:\n",
    "            answer += i[1]\n",
    "    \n",
    "    return answer"
   ]
  }
 ],
 "metadata": {
  "kernelspec": {
   "display_name": "Python 3 (ipykernel)",
   "language": "python",
   "name": "python3"
  },
  "language_info": {
   "codemirror_mode": {
    "name": "ipython",
    "version": 3
   },
   "file_extension": ".py",
   "mimetype": "text/x-python",
   "name": "python",
   "nbconvert_exporter": "python",
   "pygments_lexer": "ipython3",
   "version": "3.11.5"
  }
 },
 "nbformat": 4,
 "nbformat_minor": 5
}
