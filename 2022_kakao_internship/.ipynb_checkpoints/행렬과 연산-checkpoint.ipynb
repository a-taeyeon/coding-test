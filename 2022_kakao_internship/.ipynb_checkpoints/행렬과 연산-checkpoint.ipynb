{
 "cells": [
  {
   "cell_type": "code",
   "execution_count": null,
   "id": "f3f3a3ee",
   "metadata": {},
   "outputs": [],
   "source": [
    "# https://tech.kakao.com/2022/07/13/2022-coding-test-summer-internship/\n",
    "# deque, linked list"
   ]
  },
  {
   "cell_type": "code",
   "execution_count": null,
   "id": "48600369",
   "metadata": {},
   "outputs": [],
   "source": [
    "from collections import deque\n",
    "\n",
    "\n",
    "def solution(rc, operations):\n",
    "    N = len(rc)\n",
    "    M = len(rc[0])\n",
    "    left_col = deque([rc[i][0] for i in range(N)])\n",
    "    right_col = deque([rc[i][M - 1] for i in range(N)])\n",
    "    rows = deque([deque(rc[i][1:M - 1]) for i in range(N)])\n",
    "\n",
    "    for op in operations:\n",
    "        if op == 'ShiftRow':\n",
    "            left_col.appendleft(left_col.pop())\n",
    "            rows.appendleft(rows.pop())\n",
    "            right_col.appendleft(right_col.pop())\n",
    "        else:  # 'Rotate'\n",
    "            rows[0].appendleft(left_col.popleft())\n",
    "            right_col.appendleft(rows[0].pop())\n",
    "            rows[N - 1].append(right_col.pop())\n",
    "            left_col.append(rows[N - 1].popleft())\n",
    "    answer = []\n",
    "    for i in range(N):\n",
    "        answer.append([left_col[i]] + list(rows[i]) + [right_col[i]])\n",
    "    return answer"
   ]
  }
 ],
 "metadata": {
  "kernelspec": {
   "display_name": "Python 3 (ipykernel)",
   "language": "python",
   "name": "python3"
  },
  "language_info": {
   "codemirror_mode": {
    "name": "ipython",
    "version": 3
   },
   "file_extension": ".py",
   "mimetype": "text/x-python",
   "name": "python",
   "nbconvert_exporter": "python",
   "pygments_lexer": "ipython3",
   "version": "3.11.5"
  }
 },
 "nbformat": 4,
 "nbformat_minor": 5
}
