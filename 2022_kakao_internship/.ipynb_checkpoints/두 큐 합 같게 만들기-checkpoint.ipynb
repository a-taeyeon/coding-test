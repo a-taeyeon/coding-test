{
 "cells": [
  {
   "cell_type": "code",
   "execution_count": null,
   "id": "afc12f04",
   "metadata": {},
   "outputs": [],
   "source": [
    "from collections import deque\n",
    "\n",
    "def solution(queue1, queue2):\n",
    "    queue1 = deque(queue1)\n",
    "    queue2 = deque(queue2)\n",
    "    \n",
    "    q1_sum = sum(queue1)\n",
    "    half_sum = (q1_sum + sum(queue2)) // 2\n",
    "    \n",
    "    cnt = 0\n",
    "    while queue1 and queue2:\n",
    "        if q1_sum == half_sum:\n",
    "            return cnt\n",
    "        elif q1_sum > half_sum:\n",
    "            q1_sum -= queue1.popleft()\n",
    "        else:\n",
    "            queue1.append(queue2.popleft())\n",
    "            q1_sum += queue1[-1]\n",
    "        cnt += 1\n",
    "        \n",
    "    return -1"
   ]
  }
 ],
 "metadata": {
  "kernelspec": {
   "display_name": "Python 3 (ipykernel)",
   "language": "python",
   "name": "python3"
  },
  "language_info": {
   "codemirror_mode": {
    "name": "ipython",
    "version": 3
   },
   "file_extension": ".py",
   "mimetype": "text/x-python",
   "name": "python",
   "nbconvert_exporter": "python",
   "pygments_lexer": "ipython3",
   "version": "3.11.5"
  }
 },
 "nbformat": 4,
 "nbformat_minor": 5
}
