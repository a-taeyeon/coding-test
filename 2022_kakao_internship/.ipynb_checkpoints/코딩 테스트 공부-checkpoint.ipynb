{
 "cells": [
  {
   "cell_type": "code",
   "execution_count": null,
   "id": "24bb279f",
   "metadata": {},
   "outputs": [],
   "source": [
    "# 최단시간 -> DFS,BFS (X)\n",
    "# DP!!!!!\n",
    "# DP 배열 정의 -> 점화식 도출\n",
    "# dp[i][j]정의 : 알고력 i, 코딩력 j을 도달 할 수 있는 최단시간\n"
   ]
  },
  {
   "cell_type": "code",
   "execution_count": null,
   "id": "9190757c",
   "metadata": {},
   "outputs": [],
   "source": [
    "def solution(alp, cop, problems):\n",
    "    max_alp_req, max_cop_req = [0, 0]  # 목표값\n",
    "    \n",
    "    for problem in problems:\n",
    "        max_alp_req = max(max_alp_req, problem[0])\n",
    "        max_cop_req = max(max_cop_req, problem[1])\n",
    "    \n",
    "    dp = [[float('inf')] * (max_cop_req+1) for _ in range(max_alp_req+1)]\n",
    "    \n",
    "    alp = min(alp, max_alp_req)  # 둘중 하나라도 목표값을 넘어가면 안된다.\n",
    "    cop = min(cop, max_cop_req)\n",
    "    \n",
    "    dp[alp][cop] = 0  # dp[i][j]의 의미 : 알고력 i, 코딩력 j을 도달 할 수 있는 최단시간\n",
    "    \n",
    "    for i in range(alp, max_alp_req+1):\n",
    "        for j in range(cop, max_cop_req+1):\n",
    "            if i < max_alp_req:\n",
    "                dp[i+1][j] = min(dp[i+1][j], dp[i][j] + 1)\n",
    "            if j < max_cop_req:\n",
    "                dp[i][j+1] = min(dp[i][j+1], dp[i][j] + 1)\n",
    "            \n",
    "            for alp_req, cop_req, alp_rwd, cop_rwd, cost in problems:\n",
    "                if i >= alp_req and j >= cop_req:\n",
    "                    new_alp = min(i+alp_rwd, max_alp_req)  # 둘중 하나라도 목표값을 넘어가면 안된다.\n",
    "                    new_cop = min(j+cop_rwd, max_cop_req)\n",
    "                    dp[new_alp][new_cop] = min(dp[new_alp][new_cop], dp[i][j] + cost)\n",
    "                    \n",
    "    return dp[max_alp_req][max_cop_req]"
   ]
  }
 ],
 "metadata": {
  "kernelspec": {
   "display_name": "Python 3 (ipykernel)",
   "language": "python",
   "name": "python3"
  },
  "language_info": {
   "codemirror_mode": {
    "name": "ipython",
    "version": 3
   },
   "file_extension": ".py",
   "mimetype": "text/x-python",
   "name": "python",
   "nbconvert_exporter": "python",
   "pygments_lexer": "ipython3",
   "version": "3.11.5"
  }
 },
 "nbformat": 4,
 "nbformat_minor": 5
}
