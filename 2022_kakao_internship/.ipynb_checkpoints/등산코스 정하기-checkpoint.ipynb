{
 "cells": [
  {
   "cell_type": "code",
   "execution_count": null,
   "id": "54b45aa9",
   "metadata": {},
   "outputs": [],
   "source": [
    "# 최단거리 -> Dijkstra\n",
    "# Dijkstra -> 현재 위치의 최단 거리와 다음 위치의 최단 거리 + 간선 가중치를 비교하여 최단 거리를 계산하는 것\n",
    "# https://velog.io/@vkdldjvkdnj/programmers118669"
   ]
  },
  {
   "cell_type": "code",
   "execution_count": null,
   "id": "9de132fc",
   "metadata": {},
   "outputs": [],
   "source": [
    "import heapq\n",
    "from math import inf\n",
    "\n",
    "def solution(n, paths, gates, summits):\n",
    "    # 간선 정리 (양방향)\n",
    "    graph = [[] for _ in range(n + 1)]\n",
    "    for i, j, w in paths:\n",
    "        graph[i].append([j, w])\n",
    "        graph[j].append([i, w])\n",
    "\n",
    "    # 산봉우리 판별\n",
    "    is_summit = [False] * (n + 1)\n",
    "    for summit in summits:\n",
    "        is_summit[summit] = True\n",
    "\n",
    "    # gates 모두 시작 위치\n",
    "    distance = [inf] * (n + 1)\n",
    "    queue = []\n",
    "    for gate in gates:\n",
    "        distance[gate] = 0\n",
    "        heapq.heappush(queue, [0, gate])\n",
    "\n",
    "    # 다익스트라\n",
    "    while queue:\n",
    "        d, i = heapq.heappop(queue)\n",
    "        # 산봉우리면 바로 continue\n",
    "        # 이렇게 해야 두 개 이상의 산봉우리를 방문하지 않는다.\n",
    "        if distance[i] < d or is_summit[i]:\n",
    "            continue\n",
    "        for j, dd in graph[i]:\n",
    "            dd = max(distance[i], dd)\n",
    "            if distance[j] > dd:\n",
    "                distance[j] = dd\n",
    "                heapq.heappush(queue, [dd, j])\n",
    "\n",
    "    # 결과\n",
    "    # 거리가 같으면 산봉우리의 번호가 작은 것을 출력해야 하므로\n",
    "    # 산봉우리를 정렬하여 살펴보자.\n",
    "    result = [-1, inf]\n",
    "    for summit in sorted(summits):\n",
    "        if distance[summit] < result[1]:\n",
    "            result[0] = summit\n",
    "            result[1] = distance[summit]\n",
    "    return result\n"
   ]
  }
 ],
 "metadata": {
  "kernelspec": {
   "display_name": "Python 3 (ipykernel)",
   "language": "python",
   "name": "python3"
  },
  "language_info": {
   "codemirror_mode": {
    "name": "ipython",
    "version": 3
   },
   "file_extension": ".py",
   "mimetype": "text/x-python",
   "name": "python",
   "nbconvert_exporter": "python",
   "pygments_lexer": "ipython3",
   "version": "3.11.5"
  }
 },
 "nbformat": 4,
 "nbformat_minor": 5
}
